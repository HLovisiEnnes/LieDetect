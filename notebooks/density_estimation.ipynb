{
 "cells": [
  {
   "cell_type": "markdown",
   "id": "4b91a593-6da7-454b-ad0d-f47e69b2a9a0",
   "metadata": {},
   "source": [
    "# Comparison between $\\texttt{LiePCA}$ and $\\texttt{LieDetect}$ for density estimation \n",
    "\n",
    "Henrique Hennes https://github.com/HLovisiEnnes \\\n",
    "Raphaël Tinarrage https://raphaeltinarrage.github.io/\n",
    "\n",
    "See the repo at https://github.com/HLovisiEnnes/LieDetect and the article at https://arxiv.org/abs/2309.03086\n",
    "\n",
    "- $\\mathrm{SO}(2)$\n",
    "- $T^2$\n",
    "- $T^3$\n",
    "- $\\mathrm{SU}(2)$"
   ]
  },
  {
   "metadata": {
    "ExecuteTime": {
     "end_time": "2025-06-23T23:36:41.397183Z",
     "start_time": "2025-06-23T23:36:33.909270Z"
    }
   },
   "cell_type": "code",
   "source": [
    "# Standard imports.\n",
    "import random\n",
    "\n",
    "# Third-party imports.\n",
    "import numpy as np\n",
    "import scipy\n",
    "\n",
    "# Local imports.\n",
    "from algebra import get_lattices\n",
    "from orbits import sample_orbit_from_algebra, sample_orbit_from_rep\n",
    "from liepca import get_lie_pca_operator\n",
    "from optimization import find_closest_algebra"
   ],
   "id": "3b646ed7-689e-44d2-acaf-9cdff12b3e89",
   "outputs": [
    {
     "name": "stderr",
     "output_type": "stream",
     "text": [
      "2025-06-24 01:36:37.323392: I tensorflow/core/util/port.cc:153] oneDNN custom operations are on. You may see slightly different numerical results due to floating-point round-off errors from different computation orders. To turn them off, set the environment variable `TF_ENABLE_ONEDNN_OPTS=0`.\n",
      "2025-06-24 01:36:37.333399: E external/local_xla/xla/stream_executor/cuda/cuda_fft.cc:467] Unable to register cuFFT factory: Attempting to register factory for plugin cuFFT when one has already been registered\n",
      "WARNING: All log messages before absl::InitializeLog() is called are written to STDERR\n",
      "E0000 00:00:1750721797.344059  186760 cuda_dnn.cc:8579] Unable to register cuDNN factory: Attempting to register factory for plugin cuDNN when one has already been registered\n",
      "E0000 00:00:1750721797.347197  186760 cuda_blas.cc:1407] Unable to register cuBLAS factory: Attempting to register factory for plugin cuBLAS when one has already been registered\n",
      "W0000 00:00:1750721797.355969  186760 computation_placer.cc:177] computation placer already registered. Please check linkage and avoid linking the same target more than once.\n",
      "W0000 00:00:1750721797.355984  186760 computation_placer.cc:177] computation placer already registered. Please check linkage and avoid linking the same target more than once.\n",
      "W0000 00:00:1750721797.355985  186760 computation_placer.cc:177] computation placer already registered. Please check linkage and avoid linking the same target more than once.\n",
      "W0000 00:00:1750721797.355986  186760 computation_placer.cc:177] computation placer already registered. Please check linkage and avoid linking the same target more than once.\n",
      "2025-06-24 01:36:37.359087: I tensorflow/core/platform/cpu_feature_guard.cc:210] This TensorFlow binary is optimized to use available CPU instructions in performance-critical operations.\n",
      "To enable the following instructions: AVX2 AVX_VNNI FMA, in other operations, rebuild TensorFlow with the appropriate compiler flags.\n"
     ]
    }
   ],
   "execution_count": 1
  },
  {
   "cell_type": "code",
   "id": "09e9c2fe-5783-4b31-91f7-0c6e628bd70e",
   "metadata": {
    "ExecuteTime": {
     "end_time": "2025-06-23T23:36:41.520697Z",
     "start_time": "2025-06-23T23:36:41.509834Z"
    }
   },
   "source": [
    "def get_resampling_distance(pts):\n",
    "    \"\"\" Maximum distance for resampling. We choose it to be the maximum distance between two closest neighbors\n",
    "    of the dataset. Faster version with KDtree. \"\"\"\n",
    "    tree = scipy.spatial.KDTree(pts)  # build the KDTree\n",
    "    distances, _ = tree.query(pts, k=2)  # k=2 includes the point itself and its nearest neighbor\n",
    "    nearest_distances = distances[:, 1]  # nearest neighbor distances\n",
    "    return max(nearest_distances)\n",
    "\n",
    "\n",
    "def get_lie_pca_eigenvectors(pts, nb_neighbors=10, ambient_dim=4, orbit_dim=1, correction=True):\n",
    "    \"\"\" Simple wrapper for the Lie PCA operator and its eigenvectors. \"\"\"\n",
    "    # Compute Lie PCA.\n",
    "    Sigma = get_lie_pca_operator(pts=pts, nb_neighbors=nb_neighbors, orbit_dim=orbit_dim, method=\"PCA\",\n",
    "                                 correction=correction, verbose=False)\n",
    "    # Get and sort eigenvectors of Sigma.\n",
    "    vals, vecs = np.linalg.eig(Sigma)\n",
    "    vecs = [vecs[:, i] for i in range(len(vecs))]\n",
    "    indices = np.argsort(vals)\n",
    "    vals, vecs = [np.real(vals[i]) for i in indices], [np.real(vecs[i]) for i in indices]\n",
    "    # Select the bottom eigenvectors of Sigma.\n",
    "    eigenmatrices = [vecs[i].reshape((ambient_dim, ambient_dim)) for i in range(orbit_dim)]\n",
    "    # # Skew-symmetric correction: not implemented in the original LiePCA article.\n",
    "    # eigenmatrices = [(A-A.T)/2 for A in eigenmatrices]\n",
    "    return Sigma, eigenmatrices\n",
    "\n",
    "\n",
    "def silverman_factor(n, dim):\n",
    "    \"\"\" Implements Silverman's factor for normal distribution, as in\n",
    "    https://docs.scipy.org/doc/scipy/reference/generated/scipy.stats.gaussian_kde.silverman_factor.html#scipy.stats.gaussian_kde.silverman_factor \"\"\"\n",
    "    return (n * (dim + 2) / 4.) ** (-1. / (dim + 4))\n",
    "\n",
    "\n",
    "def sample_lie_algebra(nb_points, lie_algebra):\n",
    "    \"\"\"\n",
    "    Samples Lie algebra element using normal distribution with Silverman factor.\n",
    "    n_points is the number of points in dataset, to compute silverman_factor\n",
    "    \"\"\"\n",
    "    # Sample the coefficients according to normal distribution using Silverman's rule of thumb.\n",
    "    dim = len(lie_algebra)\n",
    "    coefs = scipy.stats.multivariate_normal.rvs(mean=[0] * dim, cov=silverman_factor(nb_points, dim) * np.identity(dim))\n",
    "    if dim == 1: coefs = [coefs]  # make a list out of coefs in case dim = 1\n",
    "\n",
    "    return sum([coefs[i] * lie_algebra[i] for i in range(len(lie_algebra))])  # the random Lie algebra element\n",
    "\n",
    "\n",
    "def estimate_densities_on_orbit(group, dim, ambient_dim, n_points, N, frequencies, n_neighbors, frequency_max, noise,\n",
    "                                correction=True):\n",
    "    \"\"\"\n",
    "    Samples using Lie PCA with three methods:\n",
    "        (1) in accordance to the original article.\n",
    "        (2) LieDetect using normal distribution for picking an element of the Lie algebra\n",
    "        (3) LieDetect with a single point source\n",
    "    \"\"\"\n",
    "    # Sample train data and test data, with the total being the sum of both.\n",
    "    # The test data is to compute Hausdorff distance, whereas the other is used as true data.\n",
    "    X = sample_orbit_from_rep(group=group, rep_type=frequencies, nb_points=n_points + N,\n",
    "                              conjugate_algebra=(group == \"torus\"), translate_orbit=(group == \"torus\"), verbose=False)\n",
    "    X_train, X_test = X[:n_points], X[n_points:]  # split into train and test data\n",
    "    # Add noise if necessary.\n",
    "    if noise > 0:\n",
    "        X_train = X_train + np.random.multivariate_normal(np.zeros(ambient_dim), noise * np.eye(ambient_dim), n_points)\n",
    "    # Lie PCA.\n",
    "    dim_orbit = dim\n",
    "    Sigma, LieAlgebraPCA = get_lie_pca_eigenvectors(X_train, nb_neighbors=n_neighbors, ambient_dim=ambient_dim,\n",
    "                                                    orbit_dim=dim_orbit, correction=correction)\n",
    "\n",
    "    # LieDetect.\n",
    "    method = \"abelian\" if (group == \"torus\") else \"bottom_lie_pca\"\n",
    "    OptimalFrequencies, OptimalLieAlgebra = find_closest_algebra(group=group, lie_pca=Sigma, group_dim=dim,\n",
    "                                                                 frequency_max=frequency_max, span_ambient_space=True,\n",
    "                                                                 method=method, verbose=False)\n",
    "    # Compute resampling distance for Lie PCA's density estimation.\n",
    "    resampling_distance = get_resampling_distance(X_train)\n",
    "\n",
    "    # Sample according to each of the three methods.\n",
    "    new_points_pca = []\n",
    "    new_points_normal = []\n",
    "    for index_N in range(N):\n",
    "        # (1) Sample Lie PCA.\n",
    "        old_point = random.choice(X_train)  #randomly choose a point in the dataset\n",
    "        distance = np.inf\n",
    "        while distance > resampling_distance:  #only add the new point if it is close to the orbit\n",
    "            A = sample_lie_algebra(len(X_train),\n",
    "                                   LieAlgebraPCA)  #randomly choose an element of the Lie algebra using Silverman's rule of thumb\n",
    "            new_point_pca = scipy.linalg.expm(A) @ old_point\n",
    "            distance = np.min(np.linalg.norm(new_point_pca - X_train, axis=1))\n",
    "        new_points_pca.append(new_point_pca.reshape(1, -1))\n",
    "        # (2) Sample Lie Detect\n",
    "        old_point = random.choice(X_train)  #randomly choose a point in the dataset\n",
    "        distance = np.inf\n",
    "        while distance > resampling_distance:  #only add the new point if it is close to the orbit\n",
    "            A = sample_lie_algebra(len(X_train),\n",
    "                                   OptimalLieAlgebra)  #randomly choose an element of the Lie algebra using Silverman's rule of thumb\n",
    "            new_point_normal = scipy.linalg.expm(A) @ old_point\n",
    "            distance = np.min(np.linalg.norm(new_point_pca - X_train, axis=1))\n",
    "        new_points_normal.append(new_point_normal.reshape(1, -1))\n",
    "    # Reshape datasets.\n",
    "    new_points_pca = np.array(new_points_pca).reshape(N, -1)\n",
    "    new_points_normal = np.array(new_points_normal).reshape(N, -1)\n",
    "    # (3) Sample LieDetect with single point source.\n",
    "    new_points_detect = sample_orbit_from_algebra(group=group, rep_type=OptimalFrequencies, algebra=OptimalLieAlgebra,\n",
    "                                                  x=random.choice(X_train), nb_points=N, method='uniform')\n",
    "    # Collect results.\n",
    "    samples = {'lie pca': new_points_pca, 'normal': new_points_normal, 'detect': new_points_detect}\n",
    "    return samples, X_test, X_train\n",
    "\n",
    "\n",
    "def compute_hausdorff_on_orbit(group, dim, ambient_dim, n_points, N, frequencies, n_neighbors, frequency_max, noise,\n",
    "                               correction=True):\n",
    "    distances = {}\n",
    "    samples, X_test, X_train = estimate_densities_on_orbit(group, dim, ambient_dim, n_points, N, frequencies,\n",
    "                                                           n_neighbors, frequency_max, noise, correction=correction, )\n",
    "\n",
    "    for i_sample, sample in enumerate(samples.keys()):\n",
    "        # Two-sided Hausdorff.\n",
    "        d1 = scipy.spatial.distance.directed_hausdorff(X_test, samples[sample])[0]\n",
    "        d2 = scipy.spatial.distance.directed_hausdorff(samples[sample], X_test)[0]\n",
    "        d = max(d1, d2)\n",
    "        distances[sample] = d\n",
    "    return distances\n",
    "\n",
    "\n",
    "def print_results(parameters, results_statistics_allparameters):\n",
    "    assert len(parameters) % 4 == 0, 'should be a multiple of 4'\n",
    "    for i in range(len(parameters) // 4):\n",
    "        parameters_list_4 = parameters[4 * i:(4 * i + 4)]\n",
    "        spacedim = str(parameters_list_4[0][2])\n",
    "        points1, points2, points3, points4 = [str(param[3]) for param in parameters_list_4]\n",
    "        if parameters_list_4[0][0] == 'SU(2)':\n",
    "            groupname = r'$\\SU(2)$'\n",
    "            freq = str(parameters_list_4[0][5])\n",
    "        elif parameters_list_4[0][1] == 1:  # Torus of dim 1\n",
    "            groupname = r'$\\SO(2)$'\n",
    "            freq = str(parameters_list_4[0][5][0])\n",
    "        elif parameters_list_4[0][1] == 2:  # Torus of dim 2\n",
    "            groupname = r'$T^2$'\n",
    "            freq = '\\\\begin{tabular}{@{}c@{}} (' + str(parameters_list_4[0][5][0]) + ',\\\\\\\\' + str(\n",
    "                parameters_list_4[0][5][1]) + ')\\\\end{tabular}'\n",
    "        elif parameters_list_4[0][1] == 3:  # Torus of dim 3\n",
    "            groupname = r'$T^3$'\n",
    "            freq = '\\\\begin{tabular}{@{}c@{}} (' + str(parameters_list_4[0][5][0]) + ',\\\\\\\\' + str(\n",
    "                parameters_list_4[0][5][1]) + ',\\\\\\\\' + str(parameters_list_4[0][5][1]) + ')\\\\end{tabular}'\n",
    "        std1, std2 = str(0), str(0.1)\n",
    "\n",
    "        liepca_list = [res['lie pca'] for res in results_statistics_allparameters[4 * i:(4 * i + 4)]]\n",
    "        normal_list = [res['normal'] for res in results_statistics_allparameters[4 * i:(4 * i + 4)]]\n",
    "        detect_list = [res['detect'] for res in results_statistics_allparameters[4 * i:(4 * i + 4)]]\n",
    "\n",
    "        best_scores_column = []\n",
    "        for k in range(4):\n",
    "            scores_row = [liepca_list[k][0], normal_list[k][0], detect_list[k][0]]\n",
    "            best_scores_column.append(np.argmin(scores_row))\n",
    "\n",
    "        liepca_list = ['{:.2f}'.format(score[0]) + r'$\\pm$' + '{:.2f}'.format(score[1]) for score in liepca_list]\n",
    "        normal_list = ['{:.2f}'.format(score[0]) + r'$\\pm$' + '{:.2f}'.format(score[1]) for score in normal_list]\n",
    "        detect_list = ['{:.2f}'.format(score[0]) + r'$\\pm$' + '{:.2f}'.format(score[1]) for score in detect_list]\n",
    "        scores_list = [liepca_list, normal_list, detect_list]\n",
    "\n",
    "        for k in range(4):\n",
    "            score = scores_list[best_scores_column[k]][k]\n",
    "            score = '\\\\textbf{' + score + '}'\n",
    "            scores_list[best_scores_column[k]][k] = score\n",
    "\n",
    "        liepca1, liepca2, liepca3, liepca4 = scores_list[0]\n",
    "        normal1, normal2, normal3, normal4 = scores_list[1]\n",
    "        detect1, detect2, detect3, detect4 = scores_list[2]\n",
    "\n",
    "        string = r'\\multicolumn{1}{||c|}{\\multirow{4}{*}{' + groupname + r'}} & \\multicolumn{1}{c|}{\\multirow{4}{*}{' + spacedim + r'}} & \\multirow{4}{*}{' + freq + r'} & \\multicolumn{1}{r|}{' + points1 + r'} & \\multirow{2}{*}{' + std1 + r'} & \\multicolumn{1}{c|}{' + liepca1 + r'} & \\multicolumn{1}{c|}{' + normal1 + r'} & ' + detect1 + r' \\\\ \\cline{4-4} \\cline{6-8} \\multicolumn{1}{||c|}{} & \\multicolumn{1}{c|}{} & & \\multicolumn{1}{r|}{' + points2 + r'} & & \\multicolumn{1}{c|}{' + liepca2 + r'} & \\multicolumn{1}{c|}{' + normal2 + r'} & ' + detect2 + r' \\\\ \\cline{4-8} \\multicolumn{1}{||c|}{} & \\multicolumn{1}{c|}{} & & \\multicolumn{1}{r|}{' + points3 + r'} & \\multirow{2}{*}{' + std2 + r'} & \\multicolumn{1}{c|}{' + liepca3 + r'} & \\multicolumn{1}{c|}{' + normal3 + r'} & ' + detect3 + r' \\\\ \\cline{4-4} \\cline{6-8} \\multicolumn{1}{||c|}{} & \\multicolumn{1}{l|}{} & & \\multicolumn{1}{r|}{' + points4 + r'} & & \\multicolumn{1}{c|}{' + liepca4 + r'} & \\multicolumn{1}{c|}{' + normal4 + r'} & ' + detect4 + r' \\\\ \\hline\\hline'\n",
    "\n",
    "        print(string, '\\n')"
   ],
   "outputs": [],
   "execution_count": 2
  },
  {
   "cell_type": "markdown",
   "id": "c4ae98ca",
   "metadata": {},
   "source": [
    "# $\\mathrm{SO}(2)$"
   ]
  },
  {
   "metadata": {
    "ExecuteTime": {
     "end_time": "2025-06-23T23:40:33.586527Z",
     "start_time": "2025-06-23T23:36:41.564290Z"
    }
   },
   "cell_type": "code",
   "source": [
    "' Scores SO(2) '\n",
    "\n",
    "correction = False\n",
    "n_repetitions = 100\n",
    "\n",
    "parameters = [('torus', 1, 4, 30, 500, ((1, 2),), 10, 2, 0), ('torus', 1, 4, 100, 500, ((1, 2),), 10, 2, 0),\n",
    "              ('torus', 1, 4, 30, 500, ((1, 2),), 10, 2, 0.1 ** 2),\n",
    "              ('torus', 1, 4, 100, 500, ((1, 2),), 10, 2, 0.1 ** 2),\n",
    "\n",
    "              ('torus', 1, 6, 30, 500, ((1, 2, 3),), 10, 3, 0), ('torus', 1, 6, 200, 500, ((1, 2, 3),), 10, 3, 0),\n",
    "              ('torus', 1, 6, 30, 500, ((1, 2, 3),), 10, 3, 0.1 ** 2),\n",
    "              ('torus', 1, 6, 200, 500, ((1, 2, 3),), 10, 3, 0.1 ** 2),\n",
    "\n",
    "              ('torus', 1, 6, 50, 500, ((1, 3, 10),), 10, 10, 0), ('torus', 1, 6, 500, 500, ((1, 3, 10),), 10, 10, 0),\n",
    "              ('torus', 1, 6, 50, 500, ((1, 3, 10),), 10, 10, 0.1 ** 2),\n",
    "              ('torus', 1, 6, 500, 500, ((1, 3, 10),), 10, 10, 0.1 ** 2), ]\n",
    "\n",
    "results_statistics_allparameters = []\n",
    "for parameter in parameters:\n",
    "    # Set parameter.\n",
    "    print('Parameters:', parameter)\n",
    "    group, dim, ambient_dim, n_points, N, frequencies, n_neighbors, frequency_max, noise = parameter\n",
    "    # Estimate orbits.\n",
    "    results = {}\n",
    "    for i in range(n_repetitions):\n",
    "        results[i] = compute_hausdorff_on_orbit(group, dim, ambient_dim, n_points, N, frequencies, n_neighbors,\n",
    "                                                frequency_max, noise, correction=correction)\n",
    "    # Reshape dict and get statistics.\n",
    "    results = {key: list([results[i][key] for i in range(len(results))]) for key in results[0].keys()}\n",
    "    results_statistics = {key: [np.mean(results[key]), np.std(results[key])] for key in results.keys()}\n",
    "    results_statistics_allparameters.append(results_statistics)\n",
    "\n",
    "# Print results.\n",
    "print_results(parameters, results_statistics_allparameters)"
   ],
   "id": "241a95a9",
   "outputs": [
    {
     "name": "stdout",
     "output_type": "stream",
     "text": [
      "Parameters: ('torus', 1, 4, 30, 500, ((1, 2),), 10, 2, 0)\n",
      "Parameters: ('torus', 1, 4, 100, 500, ((1, 2),), 10, 2, 0)\n",
      "Parameters: ('torus', 1, 4, 30, 500, ((1, 2),), 10, 2, 0.010000000000000002)\n",
      "Parameters: ('torus', 1, 4, 100, 500, ((1, 2),), 10, 2, 0.010000000000000002)\n",
      "Parameters: ('torus', 1, 6, 30, 500, ((1, 2, 3),), 10, 3, 0)\n",
      "Parameters: ('torus', 1, 6, 200, 500, ((1, 2, 3),), 10, 3, 0)\n",
      "Parameters: ('torus', 1, 6, 30, 500, ((1, 2, 3),), 10, 3, 0.010000000000000002)\n",
      "Parameters: ('torus', 1, 6, 200, 500, ((1, 2, 3),), 10, 3, 0.010000000000000002)\n",
      "Parameters: ('torus', 1, 6, 50, 500, ((1, 3, 10),), 10, 10, 0)\n",
      "Parameters: ('torus', 1, 6, 500, 500, ((1, 3, 10),), 10, 10, 0)\n",
      "Parameters: ('torus', 1, 6, 50, 500, ((1, 3, 10),), 10, 10, 0.010000000000000002)\n",
      "Parameters: ('torus', 1, 6, 500, 500, ((1, 3, 10),), 10, 10, 0.010000000000000002)\n",
      "\\multicolumn{1}{||c|}{\\multirow{4}{*}{$\\SO(2)$}} & \\multicolumn{1}{c|}{\\multirow{4}{*}{4}} & \\multirow{4}{*}{(1, 2)} & \\multicolumn{1}{r|}{30} & \\multirow{2}{*}{0} & \\multicolumn{1}{c|}{\\textbf{0.61$\\pm$0.12}} & \\multicolumn{1}{c|}{0.86$\\pm$0.13} & 0.95$\\pm$0.23 \\\\ \\cline{4-4} \\cline{6-8} \\multicolumn{1}{||c|}{} & \\multicolumn{1}{c|}{} & & \\multicolumn{1}{r|}{100} & & \\multicolumn{1}{c|}{0.11$\\pm$0.05} & \\multicolumn{1}{c|}{\\textbf{0.08$\\pm$0.01}} & 0.08$\\pm$0.02 \\\\ \\cline{4-8} \\multicolumn{1}{||c|}{} & \\multicolumn{1}{c|}{} & & \\multicolumn{1}{r|}{30} & \\multirow{2}{*}{0.1} & \\multicolumn{1}{c|}{\\textbf{0.76$\\pm$0.13}} & \\multicolumn{1}{c|}{0.94$\\pm$0.14} & 1.00$\\pm$0.23 \\\\ \\cline{4-4} \\cline{6-8} \\multicolumn{1}{||c|}{} & \\multicolumn{1}{l|}{} & & \\multicolumn{1}{r|}{100} & & \\multicolumn{1}{c|}{0.42$\\pm$0.06} & \\multicolumn{1}{c|}{0.50$\\pm$0.11} & \\textbf{0.40$\\pm$0.19} \\\\ \\hline\\hline \n",
      "\n",
      "\\multicolumn{1}{||c|}{\\multirow{4}{*}{$\\SO(2)$}} & \\multicolumn{1}{c|}{\\multirow{4}{*}{6}} & \\multirow{4}{*}{(1, 2, 3)} & \\multicolumn{1}{r|}{30} & \\multirow{2}{*}{0} & \\multicolumn{1}{c|}{\\textbf{0.93$\\pm$0.17}} & \\multicolumn{1}{c|}{1.06$\\pm$0.04} & 1.16$\\pm$0.09 \\\\ \\cline{4-4} \\cline{6-8} \\multicolumn{1}{||c|}{} & \\multicolumn{1}{c|}{} & & \\multicolumn{1}{r|}{200} & & \\multicolumn{1}{c|}{0.11$\\pm$0.04} & \\multicolumn{1}{c|}{0.09$\\pm$0.02} & \\textbf{0.09$\\pm$0.02} \\\\ \\cline{4-8} \\multicolumn{1}{||c|}{} & \\multicolumn{1}{c|}{} & & \\multicolumn{1}{r|}{30} & \\multirow{2}{*}{0.1} & \\multicolumn{1}{c|}{\\textbf{1.00$\\pm$0.15}} & \\multicolumn{1}{c|}{1.13$\\pm$0.05} & 1.13$\\pm$0.09 \\\\ \\cline{4-4} \\cline{6-8} \\multicolumn{1}{||c|}{} & \\multicolumn{1}{l|}{} & & \\multicolumn{1}{r|}{200} & & \\multicolumn{1}{c|}{\\textbf{0.54$\\pm$0.05}} & \\multicolumn{1}{c|}{0.93$\\pm$0.10} & 0.94$\\pm$0.19 \\\\ \\hline\\hline \n",
      "\n",
      "\\multicolumn{1}{||c|}{\\multirow{4}{*}{$\\SO(2)$}} & \\multicolumn{1}{c|}{\\multirow{4}{*}{6}} & \\multirow{4}{*}{(1, 3, 10)} & \\multicolumn{1}{r|}{50} & \\multirow{2}{*}{0} & \\multicolumn{1}{c|}{0.98$\\pm$0.03} & \\multicolumn{1}{c|}{\\textbf{0.89$\\pm$0.03}} & 1.07$\\pm$0.11 \\\\ \\cline{4-4} \\cline{6-8} \\multicolumn{1}{||c|}{} & \\multicolumn{1}{c|}{} & & \\multicolumn{1}{r|}{500} & & \\multicolumn{1}{c|}{0.30$\\pm$0.07} & \\multicolumn{1}{c|}{0.26$\\pm$0.05} & \\textbf{0.26$\\pm$0.08} \\\\ \\cline{4-8} \\multicolumn{1}{||c|}{} & \\multicolumn{1}{c|}{} & & \\multicolumn{1}{r|}{50} & \\multirow{2}{*}{0.1} & \\multicolumn{1}{c|}{1.07$\\pm$0.09} & \\multicolumn{1}{c|}{\\textbf{0.94$\\pm$0.04}} & 1.08$\\pm$0.11 \\\\ \\cline{4-4} \\cline{6-8} \\multicolumn{1}{||c|}{} & \\multicolumn{1}{l|}{} & & \\multicolumn{1}{r|}{500} & & \\multicolumn{1}{c|}{\\textbf{0.49$\\pm$0.05}} & \\multicolumn{1}{c|}{0.68$\\pm$0.09} & 0.64$\\pm$0.17 \\\\ \\hline\\hline \n",
      "\n"
     ]
    }
   ],
   "execution_count": 3
  },
  {
   "cell_type": "markdown",
   "id": "9f39c0c6",
   "metadata": {},
   "source": [
    "# $T^2$"
   ]
  },
  {
   "cell_type": "code",
   "id": "90f0a317",
   "metadata": {
    "ExecuteTime": {
     "end_time": "2025-06-23T23:55:33.686476Z",
     "start_time": "2025-06-23T23:40:33.627859Z"
    }
   },
   "source": [
    "' Scores T^2 '\n",
    "\n",
    "correction = False\n",
    "n_repetitions = 100\n",
    "\n",
    "parameters = [('torus', 2, 6, 100, 5000, ((1, 2, 1), (2, 1, 1)), 15, 2, 0),\n",
    "              ('torus', 2, 6, 1000, 5000, ((1, 2, 1), (2, 1, 1)), 15, 2, 0),\n",
    "              ('torus', 2, 6, 100, 5000, ((1, 2, 1), (2, 1, 1)), 15, 2, 0.1 ** 2),\n",
    "              ('torus', 2, 6, 1000, 5000, ((1, 2, 1), (2, 1, 1)), 15, 2, 0.1 ** 2), ]\n",
    "\n",
    "results_statistics_allparameters = []\n",
    "for parameter in parameters:\n",
    "    # Set parameter.\n",
    "    print('Parameters:', parameter)\n",
    "    group, dim, ambient_dim, n_points, N, frequencies, n_neighbors, frequency_max, noise = parameter\n",
    "    # Estimate orbits.\n",
    "    results = {}\n",
    "    for i in range(n_repetitions):\n",
    "        results[i] = compute_hausdorff_on_orbit(group, dim, ambient_dim, n_points, N, frequencies, n_neighbors,\n",
    "                                                frequency_max, noise, correction=correction)\n",
    "    # Reshape dict and get statistics.\n",
    "    results = {key: list([results[i][key] for i in range(len(results))]) for key in results[0].keys()}\n",
    "    results_statistics = {key: [np.mean(results[key]), np.std(results[key])] for key in results.keys()}\n",
    "    results_statistics_allparameters.append(results_statistics)\n",
    "\n",
    "# Print results.\n",
    "print_results(parameters, results_statistics_allparameters)"
   ],
   "outputs": [
    {
     "name": "stdout",
     "output_type": "stream",
     "text": [
      "Parameters: ('torus', 2, 6, 100, 5000, ((1, 2, 1), (2, 1, 1)), 15, 2, 0)\n",
      "Parameters: ('torus', 2, 6, 1000, 5000, ((1, 2, 1), (2, 1, 1)), 15, 2, 0)\n",
      "Parameters: ('torus', 2, 6, 100, 5000, ((1, 2, 1), (2, 1, 1)), 15, 2, 0.010000000000000002)\n",
      "Parameters: ('torus', 2, 6, 1000, 5000, ((1, 2, 1), (2, 1, 1)), 15, 2, 0.010000000000000002)\n",
      "\\multicolumn{1}{||c|}{\\multirow{4}{*}{$T^2$}} & \\multicolumn{1}{c|}{\\multirow{4}{*}{6}} & \\multirow{4}{*}{\\begin{tabular}{@{}c@{}} ((1, 2, 1),\\\\(2, 1, 1))\\end{tabular}} & \\multicolumn{1}{r|}{100} & \\multirow{2}{*}{0} & \\multicolumn{1}{c|}{\\textbf{0.81$\\pm$0.05}} & \\multicolumn{1}{c|}{0.86$\\pm$0.03} & 1.06$\\pm$0.12 \\\\ \\cline{4-4} \\cline{6-8} \\multicolumn{1}{||c|}{} & \\multicolumn{1}{c|}{} & & \\multicolumn{1}{r|}{1000} & & \\multicolumn{1}{c|}{0.18$\\pm$0.01} & \\multicolumn{1}{c|}{0.16$\\pm$0.01} & \\textbf{0.16$\\pm$0.01} \\\\ \\cline{4-8} \\multicolumn{1}{||c|}{} & \\multicolumn{1}{c|}{} & & \\multicolumn{1}{r|}{100} & \\multirow{2}{*}{0.1} & \\multicolumn{1}{c|}{1.05$\\pm$0.07} & \\multicolumn{1}{c|}{\\textbf{0.92$\\pm$0.04}} & 1.08$\\pm$0.15 \\\\ \\cline{4-4} \\cline{6-8} \\multicolumn{1}{||c|}{} & \\multicolumn{1}{l|}{} & & \\multicolumn{1}{r|}{1000} & & \\multicolumn{1}{c|}{0.48$\\pm$0.03} & \\multicolumn{1}{c|}{0.47$\\pm$0.03} & \\textbf{0.28$\\pm$0.07} \\\\ \\hline\\hline \n",
      "\n"
     ]
    }
   ],
   "execution_count": 4
  },
  {
   "metadata": {
    "ExecuteTime": {
     "end_time": "2025-06-23T23:55:33.811608Z",
     "start_time": "2025-06-23T23:55:33.752479Z"
    }
   },
   "cell_type": "code",
   "source": [
    "# Number of span-equivalence classes of representations.\n",
    "nb = len(get_lattices(lattice_rank=2, ambient_rank=3, frequency_max=2, method=\"span-equivalence\", span_ambient_space=False,\n",
    "    verbose=False, ))\n",
    "print(f\"Rank {2} in Z^{3} - Number of span-equivalence classes of representations:\", nb)\n",
    "\n",
    "nb = len(get_lattices(lattice_rank=2, ambient_rank=4, frequency_max=1, method=\"span-equivalence\", span_ambient_space=False,\n",
    "    verbose=False, ))\n",
    "print(f\"Rank {2} in Z^{4} -Number of span-equivalence classes of representations:\", nb)"
   ],
   "id": "5e9a1143f060fae9",
   "outputs": [
    {
     "name": "stdout",
     "output_type": "stream",
     "text": [
      "Rank 2 in Z^3 - Number of span-equivalence classes of representations: 60\n",
      "Rank 2 in Z^4 -Number of span-equivalence classes of representations: 25\n"
     ]
    }
   ],
   "execution_count": 5
  },
  {
   "cell_type": "markdown",
   "id": "6f708459",
   "metadata": {},
   "source": [
    "# $T^3$"
   ]
  },
  {
   "cell_type": "code",
   "id": "44f007db",
   "metadata": {
    "ExecuteTime": {
     "end_time": "2025-06-23T23:58:53.694897Z",
     "start_time": "2025-06-23T23:55:33.824571Z"
    }
   },
   "source": [
    "' Scores T^3 '\n",
    "\n",
    "correction = False\n",
    "n_repetitions = 10\n",
    "\n",
    "parameters = [('torus', 3, 8, 500, 20 ** 3, ((0, 1, -1, 0), (1, 0, -1, -1), (1, 0, 0, 0)), 30, 1, 0),\n",
    "              ('torus', 3, 8, 2000, 20 ** 3, ((0, 1, -1, 0), (1, 0, -1, -1), (1, 0, 0, 0)), 30, 1, 0),\n",
    "\n",
    "              ('torus', 3, 8, 500, 20 ** 3, ((0, 1, -1, 0), (1, 0, -1, -1), (1, 0, 0, 0)), 30, 1, 0.1 ** 2),\n",
    "              ('torus', 3, 8, 2000, 20 ** 3, ((0, 1, -1, 0), (1, 0, -1, -1), (1, 0, 0, 0)), 30, 1, 0.1 ** 2), ]\n",
    "\n",
    "results_statistics_allparameters = []\n",
    "for parameter in parameters:\n",
    "    # Set parameter.\n",
    "    print('Parameters:', parameter)\n",
    "    group, dim, ambient_dim, n_points, N, frequencies, n_neighbors, frequency_max, noise = parameter\n",
    "    # Estimate orbits.\n",
    "    results = {}\n",
    "    for i in range(n_repetitions):\n",
    "        results[i] = compute_hausdorff_on_orbit(group, dim, ambient_dim, n_points, N, frequencies, n_neighbors,\n",
    "                                                frequency_max, noise, correction=correction)\n",
    "    # Reshape dict and get statistics.\n",
    "    results = {key: list([results[i][key] for i in range(len(results))]) for key in results[0].keys()}\n",
    "    results_statistics = {key: [np.mean(results[key]), np.std(results[key])] for key in results.keys()}\n",
    "    results_statistics_allparameters.append(results_statistics)\n",
    "# Print results.\n",
    "print_results(parameters, results_statistics_allparameters)"
   ],
   "outputs": [
    {
     "name": "stdout",
     "output_type": "stream",
     "text": [
      "Parameters: ('torus', 3, 8, 500, 8000, ((0, 1, -1, 0), (1, 0, -1, -1), (1, 0, 0, 0)), 30, 1, 0)\n",
      "Parameters: ('torus', 3, 8, 2000, 8000, ((0, 1, -1, 0), (1, 0, -1, -1), (1, 0, 0, 0)), 30, 1, 0)\n",
      "Parameters: ('torus', 3, 8, 500, 8000, ((0, 1, -1, 0), (1, 0, -1, -1), (1, 0, 0, 0)), 30, 1, 0.010000000000000002)\n",
      "Parameters: ('torus', 3, 8, 2000, 8000, ((0, 1, -1, 0), (1, 0, -1, -1), (1, 0, 0, 0)), 30, 1, 0.010000000000000002)\n",
      "\\multicolumn{1}{||c|}{\\multirow{4}{*}{$T^3$}} & \\multicolumn{1}{c|}{\\multirow{4}{*}{8}} & \\multirow{4}{*}{\\begin{tabular}{@{}c@{}} ((0, 1, -1, 0),\\\\(1, 0, -1, -1),\\\\(1, 0, -1, -1))\\end{tabular}} & \\multicolumn{1}{r|}{500} & \\multirow{2}{*}{0} & \\multicolumn{1}{c|}{0.35$\\pm$0.03} & \\multicolumn{1}{c|}{0.26$\\pm$0.01} & \\textbf{0.24$\\pm$0.01} \\\\ \\cline{4-4} \\cline{6-8} \\multicolumn{1}{||c|}{} & \\multicolumn{1}{c|}{} & & \\multicolumn{1}{r|}{2000} & & \\multicolumn{1}{c|}{0.27$\\pm$0.01} & \\multicolumn{1}{c|}{0.26$\\pm$0.01} & \\textbf{0.24$\\pm$0.01} \\\\ \\cline{4-8} \\multicolumn{1}{||c|}{} & \\multicolumn{1}{c|}{} & & \\multicolumn{1}{r|}{500} & \\multirow{2}{*}{0.1} & \\multicolumn{1}{c|}{0.91$\\pm$0.04} & \\multicolumn{1}{c|}{0.60$\\pm$0.15} & \\textbf{0.50$\\pm$0.22} \\\\ \\cline{4-4} \\cline{6-8} \\multicolumn{1}{||c|}{} & \\multicolumn{1}{l|}{} & & \\multicolumn{1}{r|}{2000} & & \\multicolumn{1}{c|}{0.51$\\pm$0.02} & \\multicolumn{1}{c|}{0.50$\\pm$0.02} & \\textbf{0.33$\\pm$0.04} \\\\ \\hline\\hline \n",
      "\n"
     ]
    }
   ],
   "execution_count": 6
  },
  {
   "cell_type": "markdown",
   "id": "decf3920",
   "metadata": {},
   "source": [
    "# $\\mathrm{SU}(2)$"
   ]
  },
  {
   "cell_type": "code",
   "id": "2e8efc94",
   "metadata": {
    "ExecuteTime": {
     "end_time": "2025-06-24T00:16:55.993539Z",
     "start_time": "2025-06-23T23:58:53.759214Z"
    }
   },
   "source": [
    "' Scores SU(2) '\n",
    "\n",
    "correction = False\n",
    "n_repetitions = 10\n",
    "\n",
    "parameters = [('SU(2)', 3, 5, 500, 20 ** 3, [5], 30, None, 0), ('SU(2)', 3, 5, 2000, 20 ** 3, [5], 30, None, 0),\n",
    "              ('SU(2)', 3, 5, 500, 20 ** 3, [5], 30, None, 0.1 ** 2),\n",
    "              ('SU(2)', 3, 5, 2000, 20 ** 3, [5], 30, None, 0.1 ** 2),\n",
    "\n",
    "              ('SU(2)', 3, 7, 500, 20 ** 3, [7], 30, None, 0), ('SU(2)', 3, 7, 2000, 20 ** 3, [7], 30, None, 0),\n",
    "              ('SU(2)', 3, 7, 500, 20 ** 3, [7], 30, None, 0.1 ** 2),\n",
    "              ('SU(2)', 3, 7, 2000, 20 ** 3, [7], 30, None, 0.1 ** 2),\n",
    "\n",
    "              ('SU(2)', 3, 7, 500, 20 ** 3, [3, 4], 30, None, 0), ('SU(2)', 3, 7, 2000, 20 ** 3, [3, 4], 30, None, 0),\n",
    "              ('SU(2)', 3, 7, 500, 20 ** 3, [3, 4], 30, None, 0.1 ** 2),\n",
    "              ('SU(2)', 3, 7, 2000, 20 ** 3, [3, 4], 30, None, 0.1 ** 2),\n",
    "\n",
    "              ('SU(2)', 3, 11, 500, 20 ** 3, [4, 7], 30, None, 0), ('SU(2)', 3, 11, 5000, 20 ** 3, [4, 7], 30, None, 0),\n",
    "              ('SU(2)', 3, 11, 500, 20 ** 3, [4, 7], 30, None, 0.1 ** 2),\n",
    "              ('SU(2)', 3, 11, 5000, 20 ** 3, [4, 7], 30, None, 0.1 ** 2), ]\n",
    "\n",
    "results_statistics_allparameters = []\n",
    "for parameter in parameters:\n",
    "    # Set parameter\n",
    "    print('Parameters:', parameter)\n",
    "    group, dim, ambient_dim, n_points, N, frequencies, n_neighbors, frequency_max, noise = parameter\n",
    "\n",
    "    # Estimate orbits\n",
    "    results = {}\n",
    "    for i in range(n_repetitions):\n",
    "        results[i] = compute_hausdorff_on_orbit(group, dim, ambient_dim, n_points, N, frequencies, n_neighbors,\n",
    "                                                frequency_max, noise, correction=correction)\n",
    "\n",
    "    # Reshape dict and get statistics\n",
    "    results = {key: list([results[i][key] for i in range(len(results))]) for key in results[0].keys()}\n",
    "    results_statistics = {key: [np.mean(results[key]), np.std(results[key])] for key in results.keys()}\n",
    "    results_statistics_allparameters.append(results_statistics)\n",
    "    print(results)\n",
    "\n",
    "# Print results.\n",
    "print_results(parameters, results_statistics_allparameters)"
   ],
   "outputs": [
    {
     "name": "stdout",
     "output_type": "stream",
     "text": [
      "Parameters: ('SU(2)', 3, 5, 500, 8000, [5], 30, None, 0)\n",
      "{'lie pca': [0.41934501345078795, 0.49060593995526386, 0.4565906974433486, 0.5233737768244299, 0.4791147888200035, 0.4567783712982905, 0.45425266487309435, 0.47746455841714974, 0.5093236407190986, 0.5205417583044171], 'normal': [0.5380662191803474, 0.5624444526287404, 0.5171224727927317, 0.5344455688921438, 0.5430986673814789, 0.46877861952395744, 0.5529832161404384, 0.5276522415829571, 0.534422742565179, 0.5846644792571044], 'detect': [0.503546613116115, 0.5140696817802013, 0.4863794653166917, 0.4769991191664905, 0.5831462994343812, 0.4532720692089914, 0.5242890067680174, 0.5025704806339498, 0.5555725946757832, 0.5761217094953405]}\n",
      "Parameters: ('SU(2)', 3, 5, 2000, 8000, [5], 30, None, 0)\n",
      "{'lie pca': [0.46007955669058487, 0.4048213421390001, 0.45130951551977455, 0.4294807384327185, 0.4123088704943179, 0.44296673302297823, 0.4607336072224318, 0.456609299883339, 0.4065933794273596, 0.44686481166940556], 'normal': [0.5109994011942091, 0.5233838923413097, 0.5182217575808904, 0.5357292034418879, 0.5034695663104195, 0.5467905511138972, 0.5280723500347866, 0.5209869912949362, 0.5441238242898284, 0.5254122193315318], 'detect': [0.5094291588708291, 0.4950875108339984, 0.4953241249861342, 0.5105600783128971, 0.5184312641430726, 0.47266044499114485, 0.4853015181432939, 0.5037661892196066, 0.5015032261466948, 0.5175505351330189]}\n",
      "Parameters: ('SU(2)', 3, 5, 500, 8000, [5], 30, None, 0.010000000000000002)\n",
      "{'lie pca': [0.7213925640140453, 0.7658720977310186, 0.7786415302999001, 0.660596994337699, 0.7055057108515869, 0.826828401030965, 0.717613438759273, 0.7027516797201825, 0.7001920369989402, 0.7511284553364326], 'normal': [0.7215148114966484, 0.6956774308251179, 0.5896223318065632, 0.5762791772627553, 0.7818160368429156, 0.6778174751457885, 0.5424813184741626, 0.5986957821570826, 0.599210560293026, 0.6050426918190667], 'detect': [0.5384290736414461, 0.40015359928982636, 0.5748733781879769, 0.6071290129290294, 0.5192265691175291, 0.45742986987419065, 0.5901870757128029, 0.5885979359933002, 0.3962052287784002, 0.38280109904203086]}\n",
      "Parameters: ('SU(2)', 3, 5, 2000, 8000, [5], 30, None, 0.010000000000000002)\n",
      "{'lie pca': [0.6719099883575226, 0.6607799422289217, 0.6103374518032093, 0.5727627970832517, 0.6756571824117062, 0.6147011408386069, 0.5999032369811241, 0.640013116971534, 0.6031959720844392, 0.6914297709131249], 'normal': [0.6200178865557125, 0.5740388104157464, 0.7189279578543615, 0.5605704429274779, 0.630598582324006, 0.6537135039022598, 0.6719303068525578, 0.5888909727110863, 0.6399843180815971, 0.6288360886450893], 'detect': [0.48122373754062714, 0.4382754014574581, 0.5286413789211352, 0.5712233161169595, 0.5103462800557554, 0.5598189400403528, 0.393187220832585, 0.48001340538962084, 0.44918947365153017, 0.5080322902739465]}\n",
      "Parameters: ('SU(2)', 3, 7, 500, 8000, [7], 30, None, 0)\n",
      "{'lie pca': [0.7710063228181542, 0.8028183474924491, 0.7599802876159395, 0.7754743179791348, 0.8258743267743036, 0.741119212168575, 0.8262049973887345, 0.728133261385618, 0.7660244833433739, 0.8894882575130852], 'normal': [0.7922505588601721, 0.7808389937856738, 0.773977183162303, 0.8159215477532675, 0.8040721558730693, 0.7691591606357616, 0.8174295451077835, 0.8052950748013148, 0.8449508572403971, 0.8136587469000787], 'detect': [0.7763855590559837, 0.7482460069605843, 0.7416967310704847, 0.741931866772834, 0.859018904391374, 0.8104448611765318, 0.8398849214217239, 0.7765204091697776, 0.7177402364119881, 0.7266946087471263]}\n",
      "Parameters: ('SU(2)', 3, 7, 2000, 8000, [7], 30, None, 0)\n",
      "{'lie pca': [0.6514907294103668, 0.6455507273394271, 0.6650869890146075, 0.6075794995009692, 0.6571202988542739, 0.6156339188727493, 0.640107026867658, 0.7588300577949645, 0.6410545779901591, 0.6078913287674407], 'normal': [0.8112263372170604, 0.8149012251534379, 0.8298367289481967, 0.8242239516173975, 0.829178989462985, 0.8295267667196419, 0.8220311224875709, 0.7989492283772809, 0.8351950222513405, 0.8139466356402151], 'detect': [0.8065671878176506, 0.8043346625906029, 0.8113723376983112, 0.8244674337284394, 0.8007648621833802, 0.7921831602820522, 0.793573663926248, 0.7427491517980294, 0.8026999752126317, 0.784138747453254]}\n",
      "Parameters: ('SU(2)', 3, 7, 500, 8000, [7], 30, None, 0.010000000000000002)\n",
      "{'lie pca': [1.0212466229898511, 0.9374017226048537, 1.0290432233958886, 1.108210919874872, 1.063202603835125, 1.038318198845479, 0.9538657169430751, 1.04397902864439, 1.018069332593207, 1.0474076681057638], 'normal': [0.7906839828154645, 0.8632286879999804, 0.8615640924581076, 0.8052580281442424, 0.8830782873812115, 0.8144982732733714, 0.8626760533455801, 0.8032545728666249, 0.7609288377692536, 0.8807644286534383], 'detect': [1.0313950406032404, 0.7637154760501244, 1.0791904824961873, 0.8066805759335275, 0.6852762802030921, 0.7196636441822373, 0.7741964914250834, 0.7604314904868797, 1.0967351288741944, 0.7549673574953335]}\n",
      "Parameters: ('SU(2)', 3, 7, 2000, 8000, [7], 30, None, 0.010000000000000002)\n",
      "{'lie pca': [0.7307147771555035, 0.6885943057714367, 0.6887332242206038, 0.8626051734269927, 0.9006155898205178, 0.8328519734282609, 0.7404453216995245, 0.7668809410508146, 0.7888062847066173, 0.8264387252533576], 'normal': [0.8792381422156872, 0.8694176286809935, 0.8530455557938156, 0.8997090365807668, 0.8977998173532497, 0.8840699030068425, 0.8791261449689602, 0.8918475637596428, 0.8378443532767105, 0.8962064673383517], 'detect': [0.7974408151831819, 0.756995852353853, 0.757790720882239, 0.8991553312004665, 0.8076433025466305, 0.7826412281196148, 0.7694884045280568, 0.8371695686631245, 0.8723058505236418, 0.6921003150127679]}\n",
      "Parameters: ('SU(2)', 3, 7, 500, 8000, [3, 4], 30, None, 0)\n",
      "{'lie pca': [0.5209106039980766, 0.471880512181983, 0.4678590678077685, 0.43792539398751296, 0.5979214817798315, 0.5617201312466557, 0.4774670056366741, 0.45880581004799165, 0.5517577142837431, 0.5714548477183701], 'normal': [1.1570646325114022, 1.0572373605798484, 1.0021965985701298, 1.1495978941315088, 1.0616461626204645, 1.1271268356974473, 1.1685547327357615, 1.1291396181184772, 1.1303777368092451, 1.2326279190394833], 'detect': [1.0907551751476354, 1.1484223960759572, 0.9972617037201785, 1.1210402085272857, 1.2022152254353613, 1.0719189680918797, 1.092963113748497, 1.099903332867973, 1.1737893452717285, 1.2266683927082063]}\n",
      "Parameters: ('SU(2)', 3, 7, 2000, 8000, [3, 4], 30, None, 0)\n",
      "{'lie pca': [0.5622917051124889, 0.5269152213201497, 0.38688442072607376, 0.4937334768297027, 0.444884411678137, 0.3730594058557547, 0.5883418093504287, 0.5438011417794669, 0.37980118097602417, 0.431668229629879], 'normal': [1.0363762225649313, 1.0380349016894335, 1.0096979188611934, 0.9651448524510904, 1.0635027179273222, 1.0593339740958596, 1.0551672362729831, 1.069150622347639, 1.0080567609683801, 1.2033216909677715], 'detect': [1.0981828320237186, 1.1011025161611587, 1.1096235409914343, 1.0976918162827154, 1.084119224236837, 1.1415419199370356, 1.1427159244523857, 1.1069546510246306, 1.1224908884419362, 1.2163593946501776]}\n",
      "Parameters: ('SU(2)', 3, 7, 500, 8000, [3, 4], 30, None, 0.010000000000000002)\n",
      "{'lie pca': [0.7108172189290676, 0.8493278450688938, 0.7039791455605083, 0.6509612622566173, 0.7020868891303174, 0.8578969618812547, 0.7247926914337937, 0.7053564792419418, 1.0131118127524255, 0.7154522313621601], 'normal': [1.1050118567335738, 1.1310170600816916, 1.1364160682757343, 1.2475828992254738, 1.4199810169902598, 1.3445927193128662, 1.131132185798395, 1.1449621980721645, 1.3606258622876075, 1.3188416843840018], 'detect': [1.0743291577145473, 1.1921882430162778, 1.2047490182469935, 1.279801855814322, 1.192468240125086, 1.187811428486281, 1.2547105686322955, 1.0824002899730376, 1.232418447902449, 1.3999468604804006]}\n",
      "Parameters: ('SU(2)', 3, 7, 2000, 8000, [3, 4], 30, None, 0.010000000000000002)\n",
      "{'lie pca': [0.7345660623764606, 0.7128947062468095, 0.7771674468851862, 0.7329620870204677, 0.7861541753627616, 0.8450203404235906, 0.7321281692484203, 0.7405331454344779, 0.8192973261907988, 0.6389758450450533], 'normal': [1.4393376263988136, 1.1572273615577091, 1.4069592956747956, 1.379263372027977, 1.0971886956969614, 1.2960614445443248, 1.1041413768856598, 1.0543153777332062, 1.4092942143838902, 1.1752176617396228], 'detect': [1.3114594493078016, 1.2567983087582657, 1.2605578928892567, 1.2555216794085056, 1.1572285424242381, 1.1025051993138795, 1.1958370720809715, 1.2141936948272178, 1.3076090329905095, 1.3108502770452881]}\n",
      "Parameters: ('SU(2)', 3, 11, 500, 8000, [4, 7], 30, None, 0)\n",
      "{'lie pca': [0.8704041047806358, 0.8538541538372436, 0.8218700317268003, 0.8564868399183463, 0.8210876419282818, 0.8608730350729047, 0.871204295442167, 0.91784571243774, 0.9438624667505511, 0.8895282665970995], 'normal': [1.0174511797662855, 0.9555085004769199, 0.9846624893560469, 0.952985214952166, 0.9732510242019973, 1.0036835260965107, 0.9796658494310356, 1.0014240067956155, 0.9982304553186171, 1.02636543880143], 'detect': [0.9163593914997059, 1.0143933550656739, 0.9727859420233352, 0.9249140532163495, 0.9331912442628977, 0.9894280160594116, 1.0267006656897284, 0.911544951117911, 1.1152311587384218, 0.9480182666752471]}\n",
      "Parameters: ('SU(2)', 3, 11, 5000, 8000, [4, 7], 30, None, 0)\n",
      "{'lie pca': [0.6530257685447765, 0.6358822322348409, 0.7645456820924609, 0.6748864581847585, 0.6862298090277765, 0.6532781048910135, 0.7472073535548945, 0.7697202199989089, 0.6718901189105919, 0.7660958497929758], 'normal': [0.971444960714995, 0.930847270393575, 0.9120869628844754, 0.9247561069483013, 0.9145791031787129, 0.9270973749339126, 0.8873548039258166, 0.9187877383305711, 0.9181000698217175, 0.9110643656690572], 'detect': [0.9386375189096398, 0.9052368092314369, 0.9338115322858966, 0.915894269649193, 0.9183870131835988, 0.9198572982221055, 0.9179265411000445, 0.9259089293276775, 0.9178342740034532, 0.914619692668448]}\n",
      "Parameters: ('SU(2)', 3, 11, 500, 8000, [4, 7], 30, None, 0.010000000000000002)\n",
      "{'lie pca': [1.1634918768335774, 1.0913775610975325, 1.1602546765570716, 1.1742392206647931, 1.1426621221594353, 1.128564096000716, 1.106647411572132, 1.301243804590232, 1.0658684282738893, 0.9912245999305805], 'normal': [1.1742586593123698, 1.0607088127113327, 1.111926734928299, 1.0635978561677, 1.2018209944394627, 1.1506626059832195, 1.154285231464413, 1.0749643277979224, 1.0678855585565112, 1.145850832022374], 'detect': [1.260961552588327, 0.9877229645374236, 1.0596452627506707, 1.0793131026319513, 1.0503412569115573, 1.0305490078722404, 0.8817432648198434, 0.8866872411663506, 0.9681339037297682, 1.0235578760561257]}\n",
      "Parameters: ('SU(2)', 3, 11, 5000, 8000, [4, 7], 30, None, 0.010000000000000002)\n",
      "{'lie pca': [1.0149231950744695, 0.9909893370010011, 0.9199704905315419, 0.8512013498060662, 0.8249240964361119, 0.8727415662734028, 0.9046736174623589, 0.7883020553110713, 1.0060010225911236, 0.9752226730588799], 'normal': [0.9988202252344425, 1.042454314070325, 1.007108235979281, 1.0716497425909428, 1.096967319812425, 1.057253095926754, 1.0719949260939954, 1.0691736964784042, 1.0410919261532927, 1.0677250953907105], 'detect': [1.2086437481039392, 0.9429182112280587, 1.3923900689343185, 0.8615991773308743, 0.9890367920763055, 0.9291613266403194, 0.8943741975265533, 1.1419946261985008, 0.9561409653917222, 1.0394854763113766]}\n",
      "\\multicolumn{1}{||c|}{\\multirow{4}{*}{$\\SU(2)$}} & \\multicolumn{1}{c|}{\\multirow{4}{*}{5}} & \\multirow{4}{*}{[5]} & \\multicolumn{1}{r|}{500} & \\multirow{2}{*}{0} & \\multicolumn{1}{c|}{\\textbf{0.48$\\pm$0.03}} & \\multicolumn{1}{c|}{0.54$\\pm$0.03} & 0.52$\\pm$0.04 \\\\ \\cline{4-4} \\cline{6-8} \\multicolumn{1}{||c|}{} & \\multicolumn{1}{c|}{} & & \\multicolumn{1}{r|}{2000} & & \\multicolumn{1}{c|}{\\textbf{0.44$\\pm$0.02}} & \\multicolumn{1}{c|}{0.53$\\pm$0.01} & 0.50$\\pm$0.01 \\\\ \\cline{4-8} \\multicolumn{1}{||c|}{} & \\multicolumn{1}{c|}{} & & \\multicolumn{1}{r|}{500} & \\multirow{2}{*}{0.1} & \\multicolumn{1}{c|}{0.73$\\pm$0.05} & \\multicolumn{1}{c|}{0.64$\\pm$0.07} & \\textbf{0.51$\\pm$0.08} \\\\ \\cline{4-4} \\cline{6-8} \\multicolumn{1}{||c|}{} & \\multicolumn{1}{l|}{} & & \\multicolumn{1}{r|}{2000} & & \\multicolumn{1}{c|}{0.63$\\pm$0.04} & \\multicolumn{1}{c|}{0.63$\\pm$0.04} & \\textbf{0.49$\\pm$0.05} \\\\ \\hline\\hline \n",
      "\n",
      "\\multicolumn{1}{||c|}{\\multirow{4}{*}{$\\SU(2)$}} & \\multicolumn{1}{c|}{\\multirow{4}{*}{7}} & \\multirow{4}{*}{[7]} & \\multicolumn{1}{r|}{500} & \\multirow{2}{*}{0} & \\multicolumn{1}{c|}{0.79$\\pm$0.05} & \\multicolumn{1}{c|}{0.80$\\pm$0.02} & \\textbf{0.77$\\pm$0.05} \\\\ \\cline{4-4} \\cline{6-8} \\multicolumn{1}{||c|}{} & \\multicolumn{1}{c|}{} & & \\multicolumn{1}{r|}{2000} & & \\multicolumn{1}{c|}{\\textbf{0.65$\\pm$0.04}} & \\multicolumn{1}{c|}{0.82$\\pm$0.01} & 0.80$\\pm$0.02 \\\\ \\cline{4-8} \\multicolumn{1}{||c|}{} & \\multicolumn{1}{c|}{} & & \\multicolumn{1}{r|}{500} & \\multirow{2}{*}{0.1} & \\multicolumn{1}{c|}{1.03$\\pm$0.05} & \\multicolumn{1}{c|}{\\textbf{0.83$\\pm$0.04}} & 0.85$\\pm$0.15 \\\\ \\cline{4-4} \\cline{6-8} \\multicolumn{1}{||c|}{} & \\multicolumn{1}{l|}{} & & \\multicolumn{1}{r|}{2000} & & \\multicolumn{1}{c|}{\\textbf{0.78$\\pm$0.07}} & \\multicolumn{1}{c|}{0.88$\\pm$0.02} & 0.80$\\pm$0.06 \\\\ \\hline\\hline \n",
      "\n",
      "\\multicolumn{1}{||c|}{\\multirow{4}{*}{$\\SU(2)$}} & \\multicolumn{1}{c|}{\\multirow{4}{*}{7}} & \\multirow{4}{*}{[3, 4]} & \\multicolumn{1}{r|}{500} & \\multirow{2}{*}{0} & \\multicolumn{1}{c|}{\\textbf{0.51$\\pm$0.05}} & \\multicolumn{1}{c|}{1.12$\\pm$0.06} & 1.12$\\pm$0.06 \\\\ \\cline{4-4} \\cline{6-8} \\multicolumn{1}{||c|}{} & \\multicolumn{1}{c|}{} & & \\multicolumn{1}{r|}{2000} & & \\multicolumn{1}{c|}{\\textbf{0.47$\\pm$0.08}} & \\multicolumn{1}{c|}{1.05$\\pm$0.06} & 1.12$\\pm$0.04 \\\\ \\cline{4-8} \\multicolumn{1}{||c|}{} & \\multicolumn{1}{c|}{} & & \\multicolumn{1}{r|}{500} & \\multirow{2}{*}{0.1} & \\multicolumn{1}{c|}{\\textbf{0.76$\\pm$0.10}} & \\multicolumn{1}{c|}{1.23$\\pm$0.11} & 1.21$\\pm$0.09 \\\\ \\cline{4-4} \\cline{6-8} \\multicolumn{1}{||c|}{} & \\multicolumn{1}{l|}{} & & \\multicolumn{1}{r|}{2000} & & \\multicolumn{1}{c|}{\\textbf{0.75$\\pm$0.06}} & \\multicolumn{1}{c|}{1.25$\\pm$0.14} & 1.24$\\pm$0.07 \\\\ \\hline\\hline \n",
      "\n",
      "\\multicolumn{1}{||c|}{\\multirow{4}{*}{$\\SU(2)$}} & \\multicolumn{1}{c|}{\\multirow{4}{*}{11}} & \\multirow{4}{*}{[4, 7]} & \\multicolumn{1}{r|}{500} & \\multirow{2}{*}{0} & \\multicolumn{1}{c|}{\\textbf{0.87$\\pm$0.04}} & \\multicolumn{1}{c|}{0.99$\\pm$0.02} & 0.98$\\pm$0.06 \\\\ \\cline{4-4} \\cline{6-8} \\multicolumn{1}{||c|}{} & \\multicolumn{1}{c|}{} & & \\multicolumn{1}{r|}{5000} & & \\multicolumn{1}{c|}{\\textbf{0.70$\\pm$0.05}} & \\multicolumn{1}{c|}{0.92$\\pm$0.02} & 0.92$\\pm$0.01 \\\\ \\cline{4-8} \\multicolumn{1}{||c|}{} & \\multicolumn{1}{c|}{} & & \\multicolumn{1}{r|}{500} & \\multirow{2}{*}{0.1} & \\multicolumn{1}{c|}{1.13$\\pm$0.08} & \\multicolumn{1}{c|}{1.12$\\pm$0.05} & \\textbf{1.02$\\pm$0.10} \\\\ \\cline{4-4} \\cline{6-8} \\multicolumn{1}{||c|}{} & \\multicolumn{1}{l|}{} & & \\multicolumn{1}{r|}{5000} & & \\multicolumn{1}{c|}{\\textbf{0.91$\\pm$0.08}} & \\multicolumn{1}{c|}{1.05$\\pm$0.03} & 1.04$\\pm$0.16 \\\\ \\hline\\hline \n",
      "\n"
     ]
    }
   ],
   "execution_count": 7
  }
 ],
 "metadata": {
  "kernelspec": {
   "display_name": "Python 3 (ipykernel)",
   "language": "python",
   "name": "python3"
  },
  "language_info": {
   "codemirror_mode": {
    "name": "ipython",
    "version": 3
   },
   "file_extension": ".py",
   "mimetype": "text/x-python",
   "name": "python",
   "nbconvert_exporter": "python",
   "pygments_lexer": "ipython3",
   "version": "3.7.12"
  }
 },
 "nbformat": 4,
 "nbformat_minor": 5
}
